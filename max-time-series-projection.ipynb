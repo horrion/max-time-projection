{
 "cells": [
  {
   "cell_type": "markdown",
   "id": "a22ed30f",
   "metadata": {},
   "source": [
    "# Max time series projection"
   ]
  },
  {
   "cell_type": "markdown",
   "id": "16289d96",
   "metadata": {},
   "source": [
    "Read the video file and disassemble frames"
   ]
  },
  {
   "cell_type": "code",
   "execution_count": null,
   "id": "7423e397",
   "metadata": {},
   "outputs": [],
   "source": [
    "import glob\n",
    "\n",
    "def list_files_with_suffix(directory, suffix):\n",
    "    pattern = f\"{directory}/*.{suffix}\"\n",
    "    files = glob.glob(pattern)\n",
    "    return files"
   ]
  },
  {
   "cell_type": "code",
   "execution_count": null,
   "id": "867f0173",
   "metadata": {},
   "outputs": [],
   "source": [
    "import os\n",
    "\n",
    "def create_folder(folder_path):\n",
    "    try:\n",
    "        os.mkdir(folder_path)\n",
    "        print(\"Folder created successfully: \", folder_path)\n",
    "    except OSError as error:\n",
    "        print(f\"Error: {error}\")"
   ]
  },
  {
   "cell_type": "code",
   "execution_count": null,
   "id": "8733e691",
   "metadata": {},
   "outputs": [],
   "source": [
    "import cv2\n",
    "\n",
    "def extract_frames(video_path, output_folder):\n",
    "    # Open the video file\n",
    "    cap = cv2.VideoCapture(video_path)\n",
    "    \n",
    "    # Check if the video file is opened successfully\n",
    "    if not cap.isOpened():\n",
    "        print(\"Error: Unable to open video file.\")\n",
    "        return\n",
    "    \n",
    "    # Initialize frame count and file name counter\n",
    "    frame_count = 0\n",
    "    file_name_counter = 0\n",
    "    \n",
    "    # Read until video is completed\n",
    "    while True:\n",
    "        # Capture frame-by-frame\n",
    "        ret, frame = cap.read()\n",
    "        \n",
    "        # Break the loop if no frame is captured\n",
    "        if not ret:\n",
    "            break\n",
    "        \n",
    "        # Save the frame as an image file\n",
    "        file_name = f\"{output_folder}/frame_{file_name_counter}.jpg\"\n",
    "        cv2.imwrite(file_name, frame)\n",
    "        \n",
    "        # Increment frame count and file name counter\n",
    "        frame_count += 1\n",
    "        file_name_counter += 1\n",
    "    \n",
    "    # Release the video capture object\n",
    "    cap.release()\n",
    "    \n",
    "    print(f\"Frames extracted: {frame_count}\")"
   ]
  },
  {
   "cell_type": "code",
   "execution_count": null,
   "id": "2b9e5504",
   "metadata": {},
   "outputs": [],
   "source": [
    "import skimage.io\n",
    "import os\n",
    "\n",
    "def load_images_into_array(directory):\n",
    "    images = []\n",
    "    for filename in os.listdir(directory):\n",
    "        if filename.endswith(\".jpg\") or filename.endswith(\".png\"):\n",
    "            filepath = os.path.join(directory, filename)\n",
    "            image = skimage.io.imread(filepath)\n",
    "            images.append(image)\n",
    "    return images"
   ]
  },
  {
   "cell_type": "markdown",
   "id": "c706ce87",
   "metadata": {},
   "source": [
    "### Process data"
   ]
  },
  {
   "cell_type": "code",
   "execution_count": null,
   "id": "bf8af3e8",
   "metadata": {},
   "outputs": [],
   "source": [
    "# Set directory to scan\n",
    "# TODO: Append desired directory\n",
    "directory = os.getcwd() #+ \"\"\n",
    "\n",
    "# Set a suffix to filter files\n",
    "suffix = \"mp4\"\n",
    "\n",
    "# Get an array of file paths\n",
    "files = list_files_with_suffix(directory, suffix)"
   ]
  },
  {
   "cell_type": "code",
   "execution_count": null,
   "id": "cd177e4b",
   "metadata": {},
   "outputs": [],
   "source": [
    "output_folder_path_array = []\n",
    "\n",
    "for video in files: \n",
    "    output_folder_path = os.getcwd() + \"/extracted_frames/\" + os.path.basename(video)\n",
    "    create_folder(output_folder_path)\n",
    "    extract_frames(video, output_folder_path)\n",
    "    output_folder_path_array.append(output_folder_path)"
   ]
  },
  {
   "cell_type": "markdown",
   "id": "3f0aeedb",
   "metadata": {},
   "source": [
    "Get the max intensity value for each pixel on the array of images"
   ]
  },
  {
   "cell_type": "code",
   "execution_count": null,
   "id": "e868220c",
   "metadata": {},
   "outputs": [],
   "source": [
    "array_of_all_videos = []\n",
    "\n",
    "for path in output_folder_path_array: \n",
    "    image_array = load_images_into_array(path)\n",
    "    array_of_all_videos.append(image_array)\n",
    "    print(\"Number of images loaded:\", len(image_array), \"for file: \", os.path.basename(path))"
   ]
  },
  {
   "cell_type": "code",
   "execution_count": null,
   "id": "2a3b847b",
   "metadata": {},
   "outputs": [],
   "source": [
    "import numpy as np\n",
    "import matplotlib.pyplot as plt\n",
    "import os\n",
    "\n",
    "maxtime_series_output = []\n",
    "\n",
    "for index, image in enumerate(array_of_all_videos): \n",
    "    maxtime_series_output.append(np.max(array_of_all_videos[index], axis=0))\n",
    "\n",
    "\n",
    "num_cols = 1\n",
    "num_rows = len(maxtime_series_output)\n",
    "\n",
    "\n",
    "fig, axs = plt.subplots(num_rows, num_cols, figsize=(20, 20))\n",
    "\n",
    "# Plot each image\n",
    "for index, ax in enumerate(axs.flatten()):\n",
    "    if index < len(maxtime_series_output):\n",
    "        ax.imshow(maxtime_series_output[index])\n",
    "        ax.set_title(os.path.basename(output_folder_path_array[index]))\n",
    "    else:\n",
    "        # Turn off empty subplots\n",
    "        ax.axis('off')\n",
    "\n",
    "\n",
    "# Adjust layout\n",
    "plt.tight_layout()\n",
    "\n",
    "# Show the plot\n",
    "plt.show()"
   ]
  }
 ],
 "metadata": {
  "kernelspec": {
   "display_name": "Python 3 (ipykernel)",
   "language": "python",
   "name": "python3"
  },
  "language_info": {
   "codemirror_mode": {
    "name": "ipython",
    "version": 3
   },
   "file_extension": ".py",
   "mimetype": "text/x-python",
   "name": "python",
   "nbconvert_exporter": "python",
   "pygments_lexer": "ipython3",
   "version": "3.10.9"
  }
 },
 "nbformat": 4,
 "nbformat_minor": 5
}
